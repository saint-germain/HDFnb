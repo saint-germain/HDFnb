{
 "cells": [
  {
   "cell_type": "code",
   "execution_count": 1,
   "metadata": {
    "collapsed": true
   },
   "outputs": [],
   "source": [
    "#import necessary modules\n",
    "from pyhdf import SD\n",
    "import numpy as np\n",
    "from mpl_toolkits.basemap import Basemap\n",
    "import matplotlib.pyplot as plt\n",
    "import matplotlib as mpl\n",
    "%matplotlib inline"
   ]
  },
  {
   "cell_type": "code",
   "execution_count": 2,
   "metadata": {
    "scrolled": false
   },
   "outputs": [
    {
     "data": {
      "text/plain": [
       "{'Emis_29': (('swath_lines_1km:MOD_Swath_LST',\n",
       "   'swath_pixels_1km:MOD_Swath_LST'),\n",
       "  (2030, 1354),\n",
       "  21,\n",
       "  4),\n",
       " 'Emis_29_err': (('swath_lines_1km:MOD_Swath_LST',\n",
       "   'swath_pixels_1km:MOD_Swath_LST'),\n",
       "  (2030, 1354),\n",
       "  23,\n",
       "  8),\n",
       " 'Emis_31': (('swath_lines_1km:MOD_Swath_LST',\n",
       "   'swath_pixels_1km:MOD_Swath_LST'),\n",
       "  (2030, 1354),\n",
       "  21,\n",
       "  5),\n",
       " 'Emis_31_err': (('swath_lines_1km:MOD_Swath_LST',\n",
       "   'swath_pixels_1km:MOD_Swath_LST'),\n",
       "  (2030, 1354),\n",
       "  23,\n",
       "  9),\n",
       " 'Emis_32': (('swath_lines_1km:MOD_Swath_LST',\n",
       "   'swath_pixels_1km:MOD_Swath_LST'),\n",
       "  (2030, 1354),\n",
       "  21,\n",
       "  6),\n",
       " 'Emis_32_err': (('swath_lines_1km:MOD_Swath_LST',\n",
       "   'swath_pixels_1km:MOD_Swath_LST'),\n",
       "  (2030, 1354),\n",
       "  23,\n",
       "  10),\n",
       " 'Emis_ASTER': (('swath_lines_1km:MOD_Swath_LST',\n",
       "   'swath_pixels_1km:MOD_Swath_LST'),\n",
       "  (2030, 1354),\n",
       "  21,\n",
       "  12),\n",
       " 'LST': (('swath_lines_1km:MOD_Swath_LST', 'swath_pixels_1km:MOD_Swath_LST'),\n",
       "  (2030, 1354),\n",
       "  23,\n",
       "  2),\n",
       " 'LST_err': (('swath_lines_1km:MOD_Swath_LST',\n",
       "   'swath_pixels_1km:MOD_Swath_LST'),\n",
       "  (2030, 1354),\n",
       "  21,\n",
       "  7),\n",
       " 'Latitude': (('swath_lines_5km:MOD_Swath_LST',\n",
       "   'swath_pixels_5km:MOD_Swath_LST'),\n",
       "  (406, 271),\n",
       "  5,\n",
       "  0),\n",
       " 'Longitude': (('swath_lines_5km:MOD_Swath_LST',\n",
       "   'swath_pixels_5km:MOD_Swath_LST'),\n",
       "  (406, 271),\n",
       "  5,\n",
       "  1),\n",
       " 'PWV': (('swath_lines_1km:MOD_Swath_LST', 'swath_pixels_1km:MOD_Swath_LST'),\n",
       "  (2030, 1354),\n",
       "  23,\n",
       "  11),\n",
       " 'QC': (('swath_lines_1km:MOD_Swath_LST', 'swath_pixels_1km:MOD_Swath_LST'),\n",
       "  (2030, 1354),\n",
       "  23,\n",
       "  3),\n",
       " 'View_angle': (('swath_lines_1km:MOD_Swath_LST',\n",
       "   'swath_pixels_1km:MOD_Swath_LST'),\n",
       "  (2030, 1354),\n",
       "  21,\n",
       "  14),\n",
       " 'oceanpix': (('swath_lines_1km:MOD_Swath_LST',\n",
       "   'swath_pixels_1km:MOD_Swath_LST'),\n",
       "  (2030, 1354),\n",
       "  21,\n",
       "  13)}"
      ]
     },
     "execution_count": 2,
     "metadata": {},
     "output_type": "execute_result"
    }
   ],
   "source": [
    "filename1='MOD21.A2016001.1515.006.2017215165634.hdf'\n",
    "hdf=SD.SD(filename1)\n",
    "hdf.datasets()"
   ]
  },
  {
   "cell_type": "code",
   "execution_count": 3,
   "metadata": {
    "collapsed": true
   },
   "outputs": [],
   "source": [
    "pwvds=hdf.select('PWV')"
   ]
  },
  {
   "cell_type": "code",
   "execution_count": 4,
   "metadata": {},
   "outputs": [
    {
     "data": {
      "text/plain": [
       "{'_FillValue': 0,\n",
       " '_Offset': 0.0,\n",
       " '_Scale': 0.001,\n",
       " 'coordsys': 'cartesian',\n",
       " 'format': 'scaled',\n",
       " 'long_name': 'Water vapor',\n",
       " 'units': 'cm',\n",
       " 'valid_range': [0.0, 65535.0]}"
      ]
     },
     "execution_count": 4,
     "metadata": {},
     "output_type": "execute_result"
    }
   ],
   "source": [
    "pwvds.attributes()"
   ]
  },
  {
   "cell_type": "code",
   "execution_count": 5,
   "metadata": {
    "collapsed": true
   },
   "outputs": [],
   "source": [
    "units=pwvds.attributes(full=1)['units'][0]"
   ]
  },
  {
   "cell_type": "code",
   "execution_count": 6,
   "metadata": {
    "collapsed": true
   },
   "outputs": [],
   "source": [
    "pwv=pwvds[:]*pwvds.attributes()['_Scale']"
   ]
  },
  {
   "cell_type": "code",
   "execution_count": 7,
   "metadata": {},
   "outputs": [
    {
     "data": {
      "text/plain": [
       "array([[ 3.408,  3.405,  3.401, ...,  2.989,  2.991,  2.991],\n",
       "       [ 3.42 ,  3.417,  3.413, ...,  2.991,  2.993,  2.994],\n",
       "       [ 3.432,  3.429,  3.425, ...,  2.993,  2.995,  2.996],\n",
       "       ..., \n",
       "       [ 5.788,  5.796,  5.803, ...,  5.994,  5.995,  5.996],\n",
       "       [ 5.783,  5.791,  5.798, ...,  5.997,  5.999,  6.   ],\n",
       "       [ 5.778,  5.786,  5.793, ...,  6.001,  6.002,  6.004]])"
      ]
     },
     "execution_count": 7,
     "metadata": {},
     "output_type": "execute_result"
    }
   ],
   "source": [
    "pwv"
   ]
  },
  {
   "cell_type": "code",
   "execution_count": 8,
   "metadata": {},
   "outputs": [
    {
     "data": {
      "text/plain": [
       "1.087"
      ]
     },
     "execution_count": 8,
     "metadata": {},
     "output_type": "execute_result"
    }
   ],
   "source": [
    "pwv.min()"
   ]
  },
  {
   "cell_type": "code",
   "execution_count": 9,
   "metadata": {
    "collapsed": true
   },
   "outputs": [],
   "source": [
    "latitude=hdf.select('Latitude')[:]"
   ]
  },
  {
   "cell_type": "code",
   "execution_count": 10,
   "metadata": {
    "collapsed": true
   },
   "outputs": [],
   "source": [
    "longitude=hdf.select('Longitude')[:]"
   ]
  },
  {
   "cell_type": "code",
   "execution_count": 11,
   "metadata": {
    "collapsed": true
   },
   "outputs": [],
   "source": [
    "from scipy import interpolate"
   ]
  },
  {
   "cell_type": "code",
   "execution_count": 129,
   "metadata": {},
   "outputs": [
    {
     "data": {
      "text/plain": [
       "(2030, 1354)"
      ]
     },
     "execution_count": 129,
     "metadata": {},
     "output_type": "execute_result"
    }
   ],
   "source": [
    "pwv.shape"
   ]
  },
  {
   "cell_type": "code",
   "execution_count": 134,
   "metadata": {},
   "outputs": [
    {
     "data": {
      "text/plain": [
       "array([[ 3.408,  3.405,  3.401,  3.398,  3.394,  3.391],\n",
       "       [ 3.42 ,  3.417,  3.413,  3.41 ,  3.406,  3.403],\n",
       "       [ 3.432,  3.429,  3.425,  3.422,  3.418,  3.415],\n",
       "       [ 3.444,  3.44 ,  3.437,  3.434,  3.43 ,  3.427],\n",
       "       [ 3.456,  3.452,  3.449,  3.446,  3.442,  3.439],\n",
       "       [ 3.468,  3.464,  3.461,  3.456,  3.452,  3.447]])"
      ]
     },
     "execution_count": 134,
     "metadata": {},
     "output_type": "execute_result"
    }
   ],
   "source": [
    "pwv[:6,:6]"
   ]
  },
  {
   "cell_type": "code",
   "execution_count": 133,
   "metadata": {},
   "outputs": [
    {
     "data": {
      "text/plain": [
       "array([[-79.50370026, -79.28507996],\n",
       "       [-79.51185608, -79.29322815]], dtype=float32)"
      ]
     },
     "execution_count": 133,
     "metadata": {},
     "output_type": "execute_result"
    }
   ],
   "source": [
    "longitude[:2,:2]"
   ]
  },
  {
   "cell_type": "code",
   "execution_count": 31,
   "metadata": {
    "collapsed": true
   },
   "outputs": [],
   "source": [
    "z=pwv[::5,::5]"
   ]
  },
  {
   "cell_type": "code",
   "execution_count": 61,
   "metadata": {},
   "outputs": [
    {
     "data": {
      "text/plain": [
       "array([[ 3.408,  3.391,  3.368, ...,  2.955,  2.97 ,  2.987],\n",
       "       [ 3.468,  3.447,  3.413, ...,  2.977,  2.985,  2.996],\n",
       "       [ 3.467,  3.448,  3.414, ...,  2.977,  2.985,  2.996],\n",
       "       ..., \n",
       "       [ 5.824,  5.859,  5.895, ...,  5.948,  5.961,  5.969],\n",
       "       [ 5.823,  5.858,  5.893, ...,  5.948,  5.961,  5.969],\n",
       "       [ 5.798,  5.836,  5.873, ...,  5.959,  5.974,  5.986]])"
      ]
     },
     "execution_count": 61,
     "metadata": {},
     "output_type": "execute_result"
    }
   ],
   "source": [
    "z"
   ]
  },
  {
   "cell_type": "code",
   "execution_count": 135,
   "metadata": {
    "collapsed": true
   },
   "outputs": [],
   "source": [
    "import geotiepoints as gp"
   ]
  },
  {
   "cell_type": "code",
   "execution_count": 140,
   "metadata": {},
   "outputs": [
    {
     "data": {
      "text/plain": [
       "(406, 271)"
      ]
     },
     "execution_count": 140,
     "metadata": {},
     "output_type": "execute_result"
    }
   ],
   "source": [
    "longitude.shape"
   ]
  },
  {
   "cell_type": "code",
   "execution_count": 141,
   "metadata": {},
   "outputs": [
    {
     "name": "stderr",
     "output_type": "stream",
     "text": [
      "/home/ecci/miniconda3/envs/py3/lib/python3.6/site-packages/geotiepoints/geointerpolator.py:104: RuntimeWarning: invalid value encountered in arcsin\n",
      "  / EARTH_RADIUS))))\n"
     ]
    }
   ],
   "source": [
    "lon1km,lat1km=gp.modis5kmto1km(longitude,latitude)"
   ]
  },
  {
   "cell_type": "code",
   "execution_count": 143,
   "metadata": {},
   "outputs": [
    {
     "data": {
      "text/plain": [
       "(2030, 1354)"
      ]
     },
     "execution_count": 143,
     "metadata": {},
     "output_type": "execute_result"
    }
   ],
   "source": [
    "lon1km.shape"
   ]
  },
  {
   "cell_type": "code",
   "execution_count": 62,
   "metadata": {
    "collapsed": true
   },
   "outputs": [],
   "source": [
    "nlev=10\n",
    "levels = np.linspace(0,10,11)"
   ]
  },
  {
   "cell_type": "code",
   "execution_count": 63,
   "metadata": {},
   "outputs": [
    {
     "data": {
      "text/plain": [
       "array([  0.,   1.,   2.,   3.,   4.,   5.,   6.,   7.,   8.,   9.,  10.])"
      ]
     },
     "execution_count": 63,
     "metadata": {},
     "output_type": "execute_result"
    }
   ],
   "source": [
    "levels"
   ]
  },
  {
   "cell_type": "code",
   "execution_count": 71,
   "metadata": {
    "collapsed": true
   },
   "outputs": [],
   "source": [
    "colors=plt.cm.Blues(levels/10)"
   ]
  },
  {
   "cell_type": "code",
   "execution_count": 72,
   "metadata": {
    "collapsed": true
   },
   "outputs": [],
   "source": [
    "cmap = mpl.colors.ListedColormap(colors)"
   ]
  },
  {
   "cell_type": "code",
   "execution_count": 73,
   "metadata": {},
   "outputs": [
    {
     "data": {
      "text/plain": [
       "11"
      ]
     },
     "execution_count": 73,
     "metadata": {},
     "output_type": "execute_result"
    }
   ],
   "source": [
    "cmap.N"
   ]
  },
  {
   "cell_type": "code",
   "execution_count": 74,
   "metadata": {
    "collapsed": true
   },
   "outputs": [],
   "source": [
    "bounds = np.arange(nlev)\n",
    "norm = mpl.colors.BoundaryNorm(bounds, cmap.N)"
   ]
  },
  {
   "cell_type": "code",
   "execution_count": 75,
   "metadata": {
    "collapsed": true
   },
   "outputs": [],
   "source": [
    "Z = np.zeros(z.shape, dtype=np.float64)\n",
    "for j in np.arange(len(levels)-1):\n",
    "    Z[np.logical_and(z >= levels[j], z < levels[j+1])] = j  \n",
    "Z[z >= levels[-1]] = len(levels)"
   ]
  },
  {
   "cell_type": "code",
   "execution_count": 76,
   "metadata": {},
   "outputs": [
    {
     "data": {
      "text/plain": [
       "array([[ 3.,  3.,  3., ...,  2.,  2.,  2.],\n",
       "       [ 3.,  3.,  3., ...,  2.,  2.,  2.],\n",
       "       [ 3.,  3.,  3., ...,  2.,  2.,  2.],\n",
       "       ..., \n",
       "       [ 5.,  5.,  5., ...,  5.,  5.,  5.],\n",
       "       [ 5.,  5.,  5., ...,  5.,  5.,  5.],\n",
       "       [ 5.,  5.,  5., ...,  5.,  5.,  5.]])"
      ]
     },
     "execution_count": 76,
     "metadata": {},
     "output_type": "execute_result"
    }
   ],
   "source": [
    "Z"
   ]
  },
  {
   "cell_type": "code",
   "execution_count": 81,
   "metadata": {},
   "outputs": [
    {
     "name": "stderr",
     "output_type": "stream",
     "text": [
      "/home/ecci/miniconda3/envs/py3/lib/python3.6/site-packages/mpl_toolkits/basemap/__init__.py:3413: MatplotlibDeprecationWarning: The ishold function was deprecated in version 2.0.\n",
      "  b = ax.ishold()\n",
      "/home/ecci/miniconda3/envs/py3/lib/python3.6/site-packages/mpl_toolkits/basemap/__init__.py:3422: MatplotlibDeprecationWarning: axes.hold is deprecated.\n",
      "    See the API Changes document (http://matplotlib.org/api/api_changes.html)\n",
      "    for more details.\n",
      "  ax.hold(b)\n"
     ]
    },
    {
     "data": {
      "image/png": "[encoded data removed]",
      "text/plain": [
       "<matplotlib.figure.Figure at 0x7fd3d7ec9940>"
      ]
     },
     "metadata": {},
     "output_type": "display_data"
    }
   ],
   "source": [
    "plt.figure(figsize=(10,10))\n",
    "m = Basemap(projection='cyl', resolution='l',\n",
    "            llcrnrlat=0, urcrnrlat = 13,\n",
    "            llcrnrlon=-78, urcrnrlon = -70)\n",
    "m.drawcoastlines(linewidth=0.5)\n",
    "m.drawparallels(np.arange(-90., 120., 2.), labels=[1, 0, 0, 0])\n",
    "m.drawmeridians(np.arange(-180, 180., 2.), labels=[0, 0, 0, 1])\n",
    "m.pcolormesh(longitude, latitude, Z, latlon=True, cmap=cmap, norm=norm)\n",
    "from mpl_toolkits.axes_grid1 import make_axes_locatable\n",
    "divider = make_axes_locatable(plt.gca())\n",
    "cax = divider.append_axes(\"right\", \"5%\", pad=\"3%\")\n",
    "color_bar = plt.colorbar(cax=cax)\n",
    "\n",
    "color_bar.set_ticks(range(nlev))\n",
    "color_bar.set_ticklabels(levels)\n",
    "color_bar.set_label('Unit:'+units)\n"
   ]
  },
  {
   "cell_type": "code",
   "execution_count": 87,
   "metadata": {},
   "outputs": [
    {
     "name": "stderr",
     "output_type": "stream",
     "text": [
      "/home/ecci/miniconda3/envs/py3/lib/python3.6/site-packages/mpl_toolkits/basemap/__init__.py:3413: MatplotlibDeprecationWarning: The ishold function was deprecated in version 2.0.\n",
      "  b = ax.ishold()\n",
      "/home/ecci/miniconda3/envs/py3/lib/python3.6/site-packages/mpl_toolkits/basemap/__init__.py:3422: MatplotlibDeprecationWarning: axes.hold is deprecated.\n",
      "    See the API Changes document (http://matplotlib.org/api/api_changes.html)\n",
      "    for more details.\n",
      "  ax.hold(b)\n"
     ]
    },
    {
     "data": {
      "image/png": "[encoded data removed]",
      "text/plain": [
       "<matplotlib.figure.Figure at 0x7fd3dc5bc320>"
      ]
     },
     "metadata": {},
     "output_type": "display_data"
    }
   ],
   "source": [
    "plt.figure(figsize=(10,10))\n",
    "m = Basemap(projection='cyl', resolution='l',\n",
    "            llcrnrlat=4.25, urcrnrlat = 7.25,\n",
    "            llcrnrlon=-74.5, urcrnrlon = -71.5)\n",
    "m.drawcoastlines(linewidth=0.5)\n",
    "m.drawparallels(np.arange(-90., 120., 1.), labels=[1, 0, 0, 0])\n",
    "m.drawmeridians(np.arange(-180, 180., 1.), labels=[0, 0, 0, 1])\n",
    "m.pcolormesh(longitude, latitude, Z, latlon=True, cmap=cmap, norm=norm)\n",
    "from mpl_toolkits.axes_grid1 import make_axes_locatable\n",
    "divider = make_axes_locatable(plt.gca())\n",
    "cax = divider.append_axes(\"right\", \"5%\", pad=\"3%\")\n",
    "color_bar = plt.colorbar(cax=cax)\n",
    "\n",
    "color_bar.set_ticks(range(nlev))\n",
    "color_bar.set_ticklabels(levels)\n",
    "color_bar.set_label('Unit:'+units)"
   ]
  },
  {
   "cell_type": "code",
   "execution_count": 118,
   "metadata": {},
   "outputs": [],
   "source": [
    "x=longitude[:4,:4]\n",
    "y=latitude[:4,:4]\n",
    "mint=x"
   ]
  },
  {
   "cell_type": "code",
   "execution_count": 119,
   "metadata": {},
   "outputs": [],
   "source": [
    "f = interpolate.interp2d(x,y,mint,kind='cubic')"
   ]
  },
  {
   "cell_type": "code",
   "execution_count": 120,
   "metadata": {},
   "outputs": [
    {
     "data": {
      "text/plain": [
       "array([[-79.50370026, -79.28507996, -79.07454681, -78.87153625],\n",
       "       [-79.51185608, -79.29322815, -79.08270264, -78.87967682],\n",
       "       [-79.51960754, -79.30105591, -79.09060669, -78.88764954],\n",
       "       [-79.52777863, -79.30923462, -79.09876251, -78.89581299]], dtype=float32)"
      ]
     },
     "execution_count": 120,
     "metadata": {},
     "output_type": "execute_result"
    }
   ],
   "source": [
    "x"
   ]
  },
  {
   "cell_type": "code",
   "execution_count": 128,
   "metadata": {},
   "outputs": [
    {
     "data": {
      "text/plain": [
       "array([[ 17.55360413,  17.53266335,  17.51226616,  17.49238396],\n",
       "       [ 17.46392632,  17.44434357,  17.4252491 ,  17.40661621],\n",
       "       [ 17.46570778,  17.44470787,  17.42425728,  17.40431976],\n",
       "       [ 17.37602615,  17.35638428,  17.3372345 ,  17.3185482 ]], dtype=float32)"
      ]
     },
     "execution_count": 128,
     "metadata": {},
     "output_type": "execute_result"
    }
   ],
   "source": [
    "y"
   ]
  },
  {
   "cell_type": "code",
   "execution_count": 121,
   "metadata": {},
   "outputs": [
    {
     "data": {
      "text/plain": [
       "-79.28508"
      ]
     },
     "execution_count": 121,
     "metadata": {},
     "output_type": "execute_result"
    }
   ],
   "source": [
    "x[0,1]"
   ]
  },
  {
   "cell_type": "code",
   "execution_count": 126,
   "metadata": {
    "collapsed": true
   },
   "outputs": [],
   "source": [
    "Xnew = np.linspace(x[0,0],x[0,1],6)\n",
    "Ynew = np.linspace(y[0,0],y[1,0],6)\n"
   ]
  },
  {
   "cell_type": "code",
   "execution_count": 127,
   "metadata": {},
   "outputs": [
    {
     "data": {
      "text/plain": [
       "array([[-79.50370026, -79.4599762 , -79.41625214, -79.37252808,\n",
       "        -79.32880402, -79.28507996],\n",
       "       [-79.50370026, -79.4599762 , -79.41625214, -79.37252808,\n",
       "        -79.32880402, -79.28507996],\n",
       "       [-79.50370026, -79.4599762 , -79.41625214, -79.37252808,\n",
       "        -79.32880402, -79.28507996],\n",
       "       [-79.50370026, -79.4599762 , -79.41625214, -79.37252808,\n",
       "        -79.32880402, -79.28507996],\n",
       "       [-79.50370026, -79.4599762 , -79.41625214, -79.37252808,\n",
       "        -79.32880402, -79.28507996],\n",
       "       [-79.50370026, -79.4599762 , -79.41625214, -79.37252808,\n",
       "        -79.32880402, -79.28507996]])"
      ]
     },
     "execution_count": 127,
     "metadata": {},
     "output_type": "execute_result"
    }
   ],
   "source": [
    "f(Xnew,Ynew)"
   ]
  },
  {
   "cell_type": "code",
   "execution_count": 144,
   "metadata": {
    "collapsed": true
   },
   "outputs": [],
   "source": [
    "Z = np.zeros(pwv.shape, dtype=np.float64)\n",
    "for j in np.arange(len(levels)-1):\n",
    "    Z[np.logical_and(pwv >= levels[j], pwv < levels[j+1])] = j  \n",
    "Z[pwv >= levels[-1]] = len(levels)"
   ]
  },
  {
   "cell_type": "code",
   "execution_count": 145,
   "metadata": {},
   "outputs": [
    {
     "name": "stderr",
     "output_type": "stream",
     "text": [
      "/home/ecci/miniconda3/envs/py3/lib/python3.6/site-packages/mpl_toolkits/basemap/__init__.py:3413: MatplotlibDeprecationWarning: The ishold function was deprecated in version 2.0.\n",
      "  b = ax.ishold()\n",
      "/home/ecci/miniconda3/envs/py3/lib/python3.6/site-packages/mpl_toolkits/basemap/__init__.py:3422: MatplotlibDeprecationWarning: axes.hold is deprecated.\n",
      "    See the API Changes document (http://matplotlib.org/api/api_changes.html)\n",
      "    for more details.\n",
      "  ax.hold(b)\n"
     ]
    },
    {
     "data": {
      "image/png": "[encoded data removed]",
      "text/plain": [
       "<matplotlib.figure.Figure at 0x7fd3d7f87080>"
      ]
     },
     "metadata": {},
     "output_type": "display_data"
    }
   ],
   "source": [
    "plt.figure(figsize=(10,10))\n",
    "m = Basemap(projection='cyl', resolution='l',\n",
    "            llcrnrlat=0, urcrnrlat = 13,\n",
    "            llcrnrlon=-78, urcrnrlon = -70)\n",
    "m.drawcoastlines(linewidth=0.5)\n",
    "m.drawparallels(np.arange(-90., 120., 2.), labels=[1, 0, 0, 0])\n",
    "m.drawmeridians(np.arange(-180, 180., 2.), labels=[0, 0, 0, 1])\n",
    "m.pcolormesh(lon1km, lat1km, Z, latlon=True, cmap=cmap, norm=norm)\n",
    "from mpl_toolkits.axes_grid1 import make_axes_locatable\n",
    "divider = make_axes_locatable(plt.gca())\n",
    "cax = divider.append_axes(\"right\", \"5%\", pad=\"3%\")\n",
    "color_bar = plt.colorbar(cax=cax)\n",
    "\n",
    "color_bar.set_ticks(range(nlev))\n",
    "color_bar.set_ticklabels(levels)\n",
    "color_bar.set_label('Unit:'+units)"
   ]
  },
  {
   "cell_type": "code",
   "execution_count": 146,
   "metadata": {},
   "outputs": [
    {
     "name": "stderr",
     "output_type": "stream",
     "text": [
      "/home/ecci/miniconda3/envs/py3/lib/python3.6/site-packages/mpl_toolkits/basemap/__init__.py:3413: MatplotlibDeprecationWarning: The ishold function was deprecated in version 2.0.\n",
      "  b = ax.ishold()\n",
      "/home/ecci/miniconda3/envs/py3/lib/python3.6/site-packages/mpl_toolkits/basemap/__init__.py:3422: MatplotlibDeprecationWarning: axes.hold is deprecated.\n",
      "    See the API Changes document (http://matplotlib.org/api/api_changes.html)\n",
      "    for more details.\n",
      "  ax.hold(b)\n"
     ]
    },
    {
     "data": {
      "image/png": "[encoded data removed]",
      "text/plain": [
       "<matplotlib.figure.Figure at 0x7fd3dc200b38>"
      ]
     },
     "metadata": {},
     "output_type": "display_data"
    }
   ],
   "source": [
    "plt.figure(figsize=(10,10))\n",
    "m = Basemap(projection='cyl', resolution='l',\n",
    "            llcrnrlat=4.25, urcrnrlat = 7.25,\n",
    "            llcrnrlon=-74.5, urcrnrlon = -71.5)\n",
    "m.drawcoastlines(linewidth=0.5)\n",
    "m.drawparallels(np.arange(-90., 120., 1.), labels=[1, 0, 0, 0])\n",
    "m.drawmeridians(np.arange(-180, 180., 1.), labels=[0, 0, 0, 1])\n",
    "m.pcolormesh(lon1km, lat1km, Z, latlon=True, cmap=cmap, norm=norm)\n",
    "from mpl_toolkits.axes_grid1 import make_axes_locatable\n",
    "divider = make_axes_locatable(plt.gca())\n",
    "cax = divider.append_axes(\"right\", \"5%\", pad=\"3%\")\n",
    "color_bar = plt.colorbar(cax=cax)\n",
    "\n",
    "color_bar.set_ticks(range(nlev))\n",
    "color_bar.set_ticklabels(levels)\n",
    "color_bar.set_label('Unit:'+units)"
   ]
  },
  {
   "cell_type": "code",
   "execution_count": null,
   "metadata": {
    "collapsed": true
   },
   "outputs": [],
   "source": []
  }
 ],
 "metadata": {
  "kernelspec": {
   "display_name": "Python 3",
   "language": "python",
   "name": "python3"
  },
  "language_info": {
   "codemirror_mode": {
    "name": "ipython",
    "version": 3
   },
   "file_extension": ".py",
   "mimetype": "text/x-python",
   "name": "python",
   "nbconvert_exporter": "python",
   "pygments_lexer": "ipython3",
   "version": "3.6.1"
  }
 },
 "nbformat": 4,
 "nbformat_minor": 2
}
